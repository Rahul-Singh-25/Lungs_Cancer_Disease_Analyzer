{
 "cells": [
  {
   "cell_type": "markdown",
   "metadata": {
    "colab_type": "text",
    "id": "LWd1UlMnhT2s"
   },
   "source": [
    "## Importing the libraries"
   ]
  },
  {
   "cell_type": "code",
   "execution_count": 1,
   "metadata": {
    "colab": {},
    "colab_type": "code",
    "id": "YvGPUQaHhXfL"
   },
   "outputs": [],
   "source": [
    "import numpy as np\n",
    "%matplotlib inline\n",
    "import matplotlib.pyplot as plt\n",
    "import tensorflow as tf\n",
    "import pandas as pd\n",
    "from matplotlib import pyplot as plt\n",
    "import warnings\n",
    "warnings.filterwarnings('ignore')"
   ]
  },
  {
   "cell_type": "markdown",
   "metadata": {
    "colab_type": "text",
    "id": "K1VMqkGvhc3-"
   },
   "source": [
    "## Importing the dataset"
   ]
  },
  {
   "cell_type": "code",
   "execution_count": 2,
   "metadata": {
    "colab": {},
    "colab_type": "code",
    "id": "M52QDmyzhh9s"
   },
   "outputs": [
    {
     "data": {
      "text/html": [
       "<div>\n",
       "<style scoped>\n",
       "    .dataframe tbody tr th:only-of-type {\n",
       "        vertical-align: middle;\n",
       "    }\n",
       "\n",
       "    .dataframe tbody tr th {\n",
       "        vertical-align: top;\n",
       "    }\n",
       "\n",
       "    .dataframe thead th {\n",
       "        text-align: right;\n",
       "    }\n",
       "</style>\n",
       "<table border=\"1\" class=\"dataframe\">\n",
       "  <thead>\n",
       "    <tr style=\"text-align: right;\">\n",
       "      <th></th>\n",
       "      <th>Cough Count</th>\n",
       "      <th>BloodPressure</th>\n",
       "      <th>Resistin</th>\n",
       "      <th>Insulin</th>\n",
       "      <th>BMI</th>\n",
       "      <th>Age</th>\n",
       "      <th>Classification</th>\n",
       "    </tr>\n",
       "  </thead>\n",
       "  <tbody>\n",
       "    <tr>\n",
       "      <th>0</th>\n",
       "      <td>148</td>\n",
       "      <td>72</td>\n",
       "      <td>7.99585</td>\n",
       "      <td>0</td>\n",
       "      <td>33.6</td>\n",
       "      <td>50</td>\n",
       "      <td>1</td>\n",
       "    </tr>\n",
       "    <tr>\n",
       "      <th>1</th>\n",
       "      <td>85</td>\n",
       "      <td>66</td>\n",
       "      <td>4.06405</td>\n",
       "      <td>0</td>\n",
       "      <td>26.6</td>\n",
       "      <td>31</td>\n",
       "      <td>0</td>\n",
       "    </tr>\n",
       "    <tr>\n",
       "      <th>2</th>\n",
       "      <td>183</td>\n",
       "      <td>64</td>\n",
       "      <td>9.27715</td>\n",
       "      <td>0</td>\n",
       "      <td>23.3</td>\n",
       "      <td>32</td>\n",
       "      <td>1</td>\n",
       "    </tr>\n",
       "    <tr>\n",
       "      <th>3</th>\n",
       "      <td>89</td>\n",
       "      <td>66</td>\n",
       "      <td>12.76600</td>\n",
       "      <td>94</td>\n",
       "      <td>28.1</td>\n",
       "      <td>21</td>\n",
       "      <td>0</td>\n",
       "    </tr>\n",
       "    <tr>\n",
       "      <th>4</th>\n",
       "      <td>137</td>\n",
       "      <td>40</td>\n",
       "      <td>10.57635</td>\n",
       "      <td>168</td>\n",
       "      <td>43.1</td>\n",
       "      <td>33</td>\n",
       "      <td>1</td>\n",
       "    </tr>\n",
       "    <tr>\n",
       "      <th>...</th>\n",
       "      <td>...</td>\n",
       "      <td>...</td>\n",
       "      <td>...</td>\n",
       "      <td>...</td>\n",
       "      <td>...</td>\n",
       "      <td>...</td>\n",
       "      <td>...</td>\n",
       "    </tr>\n",
       "    <tr>\n",
       "      <th>111</th>\n",
       "      <td>155</td>\n",
       "      <td>62</td>\n",
       "      <td>10.96000</td>\n",
       "      <td>495</td>\n",
       "      <td>34.0</td>\n",
       "      <td>46</td>\n",
       "      <td>1</td>\n",
       "    </tr>\n",
       "    <tr>\n",
       "      <th>112</th>\n",
       "      <td>89</td>\n",
       "      <td>76</td>\n",
       "      <td>7.32000</td>\n",
       "      <td>37</td>\n",
       "      <td>31.2</td>\n",
       "      <td>23</td>\n",
       "      <td>0</td>\n",
       "    </tr>\n",
       "    <tr>\n",
       "      <th>113</th>\n",
       "      <td>76</td>\n",
       "      <td>62</td>\n",
       "      <td>10.33000</td>\n",
       "      <td>0</td>\n",
       "      <td>34.0</td>\n",
       "      <td>25</td>\n",
       "      <td>0</td>\n",
       "    </tr>\n",
       "    <tr>\n",
       "      <th>114</th>\n",
       "      <td>160</td>\n",
       "      <td>54</td>\n",
       "      <td>3.27000</td>\n",
       "      <td>175</td>\n",
       "      <td>30.5</td>\n",
       "      <td>39</td>\n",
       "      <td>1</td>\n",
       "    </tr>\n",
       "    <tr>\n",
       "      <th>115</th>\n",
       "      <td>146</td>\n",
       "      <td>92</td>\n",
       "      <td>4.35000</td>\n",
       "      <td>0</td>\n",
       "      <td>31.2</td>\n",
       "      <td>61</td>\n",
       "      <td>1</td>\n",
       "    </tr>\n",
       "  </tbody>\n",
       "</table>\n",
       "<p>116 rows × 7 columns</p>\n",
       "</div>"
      ],
      "text/plain": [
       "     Cough Count  BloodPressure  Resistin  Insulin   BMI  Age  Classification\n",
       "0            148             72   7.99585        0  33.6   50               1\n",
       "1             85             66   4.06405        0  26.6   31               0\n",
       "2            183             64   9.27715        0  23.3   32               1\n",
       "3             89             66  12.76600       94  28.1   21               0\n",
       "4            137             40  10.57635      168  43.1   33               1\n",
       "..           ...            ...       ...      ...   ...  ...             ...\n",
       "111          155             62  10.96000      495  34.0   46               1\n",
       "112           89             76   7.32000       37  31.2   23               0\n",
       "113           76             62  10.33000        0  34.0   25               0\n",
       "114          160             54   3.27000      175  30.5   39               1\n",
       "115          146             92   4.35000        0  31.2   61               1\n",
       "\n",
       "[116 rows x 7 columns]"
      ]
     },
     "execution_count": 2,
     "metadata": {},
     "output_type": "execute_result"
    }
   ],
   "source": [
    "dataset = pd.read_csv('Lungs_Cancer.csv')\n",
    "X = dataset.iloc[:, :-1]\n",
    "y = dataset.iloc[:, -1].values\n",
    "dataset"
   ]
  },
  {
   "cell_type": "markdown",
   "metadata": {},
   "source": [
    "# Checking the null values in dataset"
   ]
  },
  {
   "cell_type": "code",
   "execution_count": 3,
   "metadata": {},
   "outputs": [
    {
     "data": {
      "text/plain": [
       "Cough Count       0\n",
       "BloodPressure     0\n",
       "Resistin          0\n",
       "Insulin           0\n",
       "BMI               0\n",
       "Age               0\n",
       "Classification    0\n",
       "dtype: int64"
      ]
     },
     "execution_count": 3,
     "metadata": {},
     "output_type": "execute_result"
    }
   ],
   "source": [
    "dataset.isnull().sum()"
   ]
  },
  {
   "cell_type": "markdown",
   "metadata": {},
   "source": [
    "# Data Visualization\n",
    "   Plotting the data distribution plot"
   ]
  },
  {
   "cell_type": "code",
   "execution_count": 4,
   "metadata": {},
   "outputs": [
    {
     "data": {
      "image/png": "[encoded data removed]",
      "text/plain": [
       "<Figure size 1440x1080 with 9 Axes>"
      ]
     },
     "metadata": {
      "needs_background": "light"
     },
     "output_type": "display_data"
    }
   ],
   "source": [
    "p = dataset.hist(bins=50, figsize = (20,15))"
   ]
  },
  {
   "cell_type": "markdown",
   "metadata": {
    "colab_type": "text",
    "id": "YvxIPVyMhmKp"
   },
   "source": [
    "## Splitting the dataset into the Training set and Test set"
   ]
  },
  {
   "cell_type": "code",
   "execution_count": 5,
   "metadata": {
    "colab": {},
    "colab_type": "code",
    "id": "AVzJWAXIhxoC"
   },
   "outputs": [],
   "source": [
    "from sklearn.model_selection import train_test_split\n",
    "X_train, X_test, y_train, y_test = train_test_split(X, y, test_size = 0.25, random_state = 0)"
   ]
  },
  {
   "cell_type": "code",
   "execution_count": 6,
   "metadata": {
    "colab": {
     "base_uri": "https://localhost:8080/",
     "height": 1000
    },
    "colab_type": "code",
    "executionInfo": {
     "elapsed": 1137,
     "status": "ok",
     "timestamp": 1588267335709,
     "user": {
      "displayName": "Hadelin de Ponteves",
      "photoUrl": "https://lh3.googleusercontent.com/a-/AOh14GhEuXdT7eQweUmRPW8_laJuPggSK6hfvpl5a6WBaA=s64",
      "userId": "15047218817161520419"
     },
     "user_tz": -240
    },
    "id": "P3nS3-6r1i2B",
    "outputId": "c9d82a73-9c13-4cac-e5f2-a7c7803f1819"
   },
   "outputs": [
    {
     "name": "stdout",
     "output_type": "stream",
     "text": [
      "     Cough Count  BloodPressure  Resistin  Insulin   BMI  Age\n",
      "93           134             72   5.76800        0  23.8   60\n",
      "33            92             92   6.71026        0  19.9   28\n",
      "45           180             66   6.70520        0  42.0   25\n",
      "3             89             66  12.76600       94  28.1   21\n",
      "48           103             66   4.53000        0  39.1   31\n",
      "..           ...            ...       ...      ...   ...  ...\n",
      "112           89             76   7.32000       37  31.2   23\n",
      "67           109             92  13.91245        0  42.7   54\n",
      "64           114             66   8.20490        0  32.8   42\n",
      "47            71             70   4.66380        0  28.0   22\n",
      "44           159             64   4.29890        0  27.4   40\n",
      "\n",
      "[87 rows x 6 columns]\n"
     ]
    }
   ],
   "source": [
    "print(X_train)"
   ]
  },
  {
   "cell_type": "code",
   "execution_count": 7,
   "metadata": {
    "colab": {
     "base_uri": "https://localhost:8080/",
     "height": 171
    },
    "colab_type": "code",
    "executionInfo": {
     "elapsed": 1133,
     "status": "ok",
     "timestamp": 1588267335710,
     "user": {
      "displayName": "Hadelin de Ponteves",
      "photoUrl": "https://lh3.googleusercontent.com/a-/AOh14GhEuXdT7eQweUmRPW8_laJuPggSK6hfvpl5a6WBaA=s64",
      "userId": "15047218817161520419"
     },
     "user_tz": -240
    },
    "id": "8dpDLojm1mVG",
    "outputId": "a3d03ccc-37c0-40b8-92c7-232abd3240a7"
   },
   "outputs": [
    {
     "name": "stdout",
     "output_type": "stream",
     "text": [
      "[1 0 1 0 1 1 0 1 0 0 0 0 0 0 0 1 0 0 1 0 0 0 0 0 0 1 1 1 0 0 1 0 1 0 0 1 0\n",
      " 0 0 0 1 1 0 0 0 1 0 0 1 0 1 0 0 0 0 1 0 0 0 0 1 1 0 1 1 0 0 0 0 1 0 0 0 1\n",
      " 1 1 0 0 0 0 1 0 0 0 1 0 0]\n"
     ]
    }
   ],
   "source": [
    "print(y_train)"
   ]
  },
  {
   "cell_type": "code",
   "execution_count": 8,
   "metadata": {
    "colab": {
     "base_uri": "https://localhost:8080/",
     "height": 1000
    },
    "colab_type": "code",
    "executionInfo": {
     "elapsed": 1128,
     "status": "ok",
     "timestamp": 1588267335710,
     "user": {
      "displayName": "Hadelin de Ponteves",
      "photoUrl": "https://lh3.googleusercontent.com/a-/AOh14GhEuXdT7eQweUmRPW8_laJuPggSK6hfvpl5a6WBaA=s64",
      "userId": "15047218817161520419"
     },
     "user_tz": -240
    },
    "id": "qbb7i0DH1qui",
    "outputId": "ae89dad9-0dfb-4612-f88a-828fb9f95836"
   },
   "outputs": [
    {
     "name": "stdout",
     "output_type": "stream",
     "text": [
      "     Cough Count  BloodPressure  Resistin  Insulin   BMI  Age\n",
      "10           110             92   6.92000        0  37.6   30\n",
      "74            79             75   5.68000        0  32.0   22\n",
      "66           109             88  10.34455        0  32.5   38\n",
      "51           101             50  11.77400       36  24.2   26\n",
      "7            115              0   5.10420        0  35.3   29\n",
      "78           131              0  24.37010        0  43.2   26\n",
      "92            81             78  24.24591       48  46.7   42\n",
      "90            80             55  17.55503        0  19.1   21\n",
      "107          144             58   8.89000      140  29.5   37\n",
      "62            44             62  22.94254        0  25.0   36\n",
      "30           109             75  22.32024        0  36.0   60\n",
      "2            183             64   9.27715        0  23.3   32\n",
      "94           142             82  11.50005       64  24.7   21\n",
      "22           196             90  24.60330        0  39.8   41\n",
      "43           171            110  11.78796      240  45.4   54\n",
      "84           137            108  53.67170        0  48.8   37\n",
      "24           143             94  10.19299      146  36.6   51\n",
      "73           129             86   4.82000      270  35.1   23\n",
      "60            84              0  15.73606        0   0.0   21\n",
      "56           187             68  17.37615      304  37.7   41\n",
      "16           118             84   3.32000      230  45.8   31\n",
      "13           189             60   6.85000      846  30.1   59\n",
      "26           147             76  11.78388        0  39.4   43\n",
      "86           106             72  16.11032        0  36.6   45\n",
      "71           139             64   5.31000      140  28.6   26\n",
      "97            71             48  26.01360       76  20.4   22\n",
      "111          155             62  10.96000      495  34.0   46\n",
      "100          163             72  18.35574        0  39.0   33\n",
      "8            197             70   6.28445      543  30.5   53\n"
     ]
    }
   ],
   "source": [
    "print(X_test)"
   ]
  },
  {
   "cell_type": "code",
   "execution_count": 9,
   "metadata": {
    "colab": {
     "base_uri": "https://localhost:8080/",
     "height": 68
    },
    "colab_type": "code",
    "executionInfo": {
     "elapsed": 1591,
     "status": "ok",
     "timestamp": 1588267336179,
     "user": {
      "displayName": "Hadelin de Ponteves",
      "photoUrl": "https://lh3.googleusercontent.com/a-/AOh14GhEuXdT7eQweUmRPW8_laJuPggSK6hfvpl5a6WBaA=s64",
      "userId": "15047218817161520419"
     },
     "user_tz": -240
    },
    "id": "kj1hnFAR1s5w",
    "outputId": "948c3b43-2282-400f-9f0e-e9f397b65047"
   },
   "outputs": [
    {
     "name": "stdout",
     "output_type": "stream",
     "text": [
      "[0 0 1 0 0 1 0 0 0 0 0 1 0 1 1 1 1 0 0 1 1 1 1 0 0 0 1 1 1]\n"
     ]
    }
   ],
   "source": [
    "print(y_test)"
   ]
  },
  {
   "cell_type": "markdown",
   "metadata": {
    "colab_type": "text",
    "id": "kW3c7UYih0hT"
   },
   "source": [
    "## Feature Scaling"
   ]
  },
  {
   "cell_type": "code",
   "execution_count": 10,
   "metadata": {
    "colab": {},
    "colab_type": "code",
    "id": "9fQlDPKCh8sc"
   },
   "outputs": [],
   "source": [
    "from sklearn.preprocessing import StandardScaler\n",
    "sc = StandardScaler()\n",
    "X_train = sc.fit_transform(X_train)\n",
    "X_test = sc.transform(X_test)"
   ]
  },
  {
   "cell_type": "code",
   "execution_count": 11,
   "metadata": {
    "colab": {
     "base_uri": "https://localhost:8080/",
     "height": 1000
    },
    "colab_type": "code",
    "executionInfo": {
     "elapsed": 1585,
     "status": "ok",
     "timestamp": 1588267336180,
     "user": {
      "displayName": "Hadelin de Ponteves",
      "photoUrl": "https://lh3.googleusercontent.com/a-/AOh14GhEuXdT7eQweUmRPW8_laJuPggSK6hfvpl5a6WBaA=s64",
      "userId": "15047218817161520419"
     },
     "user_tz": -240
    },
    "id": "syrnD1Op2BSR",
    "outputId": "cd5ad357-7763-4894-d894-76fbe781fcd8"
   },
   "outputs": [
    {
     "name": "stdout",
     "output_type": "stream",
     "text": [
      "[[ 6.38846089e-01  1.43601825e-01 -6.90949655e-01 -7.19421281e-01\n",
      "  -7.58630341e-01  2.46577773e+00]\n",
      " [-7.52300281e-01  1.19346391e+00 -6.18545209e-01 -7.19421281e-01\n",
      "  -1.20832160e+00 -4.61610416e-01]\n",
      " [ 2.16248259e+00 -1.71356800e-01 -6.18934026e-01 -7.19421281e-01\n",
      "   1.33992885e+00 -7.36053055e-01]\n",
      " [-8.51667879e-01 -1.71356800e-01 -1.53214514e-01  4.37594891e-01\n",
      "  -2.62816905e-01 -1.10197657e+00]\n",
      " [-3.87952422e-01 -1.71356800e-01 -7.86079135e-01 -7.19421281e-01\n",
      "   1.00554305e+00 -1.87167777e-01]\n",
      " [-1.21601574e+00 -1.01124647e+00 -1.40143815e-01  3.63742795e-01\n",
      "   7.15689001e-02 -6.44572176e-01]\n",
      " [ 1.16880661e+00 -1.71356800e-01  6.42223163e-01  3.49014820e+00\n",
      "   4.98199066e-01  8.19121900e-01]\n",
      " [ 1.03631648e+00  1.19346391e+00 -7.99910562e-01 -7.19421281e-01\n",
      "   9.46299901e-02  2.55725861e+00]\n",
      " [ 9.70071415e-01  1.43601825e-01  4.61670022e-01  2.08695837e+00\n",
      "   4.05954705e-01  6.36160141e-01]\n",
      " [ 1.20192914e+00 -4.86315424e-01  1.22416254e-02 -7.19421281e-01\n",
      "  -4.93427806e-01 -1.01049569e+00]\n",
      " [-7.52300281e-01 -3.81329216e-01  6.35719319e-01 -7.19421281e-01\n",
      "   1.40752170e-01 -8.27533935e-01]\n",
      " [ 2.74498230e-01  5.63546658e-01  3.98572589e-01  1.44690687e+00\n",
      "   1.86874350e-01  8.72748623e-02]\n",
      " [ 8.70703817e-01 -5.91301632e-01 -2.46275427e-01  8.56090103e-01\n",
      "  -5.74141621e-01 -8.27533935e-01]\n",
      " [-5.86687618e-01 -1.71356800e-01  6.62524624e-01  1.00379429e+00\n",
      "  -8.27813611e-01 -1.01049569e+00]\n",
      " [-3.87952422e-01 -2.06110855e+00 -6.19189139e-01  3.02199382e-01\n",
      "   1.48982594e+00 -4.20601746e-03]\n",
      " [ 1.76501220e+00  2.48588033e-01 -7.82237072e-01 -7.19421281e-01\n",
      "   8.78707051e-01  8.72748623e-02]\n",
      " [-3.21707357e-01 -2.76343008e-01 -3.12315880e-01  1.02841166e+00\n",
      "   1.28227613e+00 -1.01049569e+00]\n",
      " [-6.52932683e-01 -1.71356800e-01 -9.22025528e-02 -2.51691339e-01\n",
      "  -1.24291323e+00 -7.36053055e-01]\n",
      " [ 6.05723556e-01  1.43601825e-01  7.21424616e-02 -7.19421281e-01\n",
      "   2.90649255e-01  5.44679261e-01]\n",
      " [-1.74597626e+00  4.58560450e-01 -5.83591656e-01 -7.19421281e-01\n",
      "   2.56057620e-01  7.27641020e-01]\n",
      " [-3.87952422e-01  5.63546658e-01 -4.81484221e-01  2.89890699e-01\n",
      "  -1.26597432e+00 -1.01049569e+00]\n",
      " [-9.84158009e-01 -1.71356800e-01 -8.21883321e-01 -7.19421281e-01\n",
      "  -4.35775080e-01 -1.87167777e-01]\n",
      " [-9.84158009e-01 -2.23849904e-01 -3.69276770e-01 -7.19421281e-01\n",
      "   1.06319577e+00 -5.53091296e-01]\n",
      " [-2.88584824e-01  1.19346391e+00 -5.51966867e-01 -7.19421281e-01\n",
      "  -8.85466336e-01  1.36800718e+00]\n",
      " [ 6.05723556e-01  7.73519074e-01 -4.87504734e-01 -7.19421281e-01\n",
      "   1.13237904e+00  3.61717501e-01]\n",
      " [ 7.38213686e-01 -1.53617751e+00 -3.21469980e-01  1.34843741e+00\n",
      "   1.46676485e+00 -4.20601746e-03]\n",
      " [-4.87320020e-01 -3.63590167e+00 -5.47102815e-01 -7.19421281e-01\n",
      "  -4.37365500e-02 -9.56868972e-02]\n",
      " [-2.55462292e-01  2.48588033e-01 -8.26803838e-02 -7.19421281e-01\n",
      "  -8.98587301e-02 -1.87167777e-01]\n",
      " [-8.84790411e-01 -1.71356800e-01  6.35797697e-01 -4.36321579e-01\n",
      "  -6.89447071e-01 -2.78648657e-01]\n",
      " [ 2.16248259e+00 -2.76343008e-01 -5.16078156e-01  1.42186507e-01\n",
      "   4.17485250e-01 -6.44572176e-01]\n",
      " [-8.18545346e-01 -6.63705914e-02  4.22134425e-01 -7.19421281e-01\n",
      "   9.01768141e-01 -5.53091296e-01]\n",
      " [ 4.26405017e-02  2.48588033e-01 -3.41352656e-01 -7.19421281e-01\n",
      "  -5.51080531e-01 -2.78648657e-01]\n",
      " [ 2.02999246e+00  1.08847770e+00  1.01986722e+00  2.97318352e+00\n",
      "   3.82893615e-01  2.28281598e+00]\n",
      " [-6.19810150e-01  2.76825703e+00  6.11918136e-02 -7.19421281e-01\n",
      "  -9.20057971e-01 -5.53091296e-01]\n",
      " [-1.05040307e+00 -5.91301632e-01 -8.12205164e-01 -4.97864993e-01\n",
      "   4.52076885e-01 -7.36053055e-01]\n",
      " [ 1.10256155e+00  1.43601825e-01 -5.19758853e-01 -7.19421281e-01\n",
      "   3.71363070e-01  1.55096894e+00]\n",
      " [ 2.41375697e-01  4.58560450e-01 -3.36928136e-01 -7.19421281e-01\n",
      "  -3.20469630e-01  1.09356454e+00]\n",
      " [ 1.00319395e+00  6.68532866e-01  5.59183118e-01  6.34533814e-01\n",
      "  -9.43119061e-01  2.19133510e+00]\n",
      " [-1.38162840e+00 -1.01124647e+00 -2.07054111e-01 -7.19421281e-01\n",
      "  -8.50874701e-01 -1.10197657e+00]\n",
      " [-3.87952422e-01 -4.86315424e-01 -8.10860442e-01  1.64384579e+00\n",
      "  -7.35569251e-01 -4.20601746e-03]\n",
      " [ 1.42008100e-01  5.63546658e-01  1.28874364e-01 -7.19421281e-01\n",
      "  -1.59042000e-01 -3.70129536e-01]\n",
      " [ 1.43378687e+00  3.53574241e-01 -3.45541273e-01  2.29620598e+00\n",
      "   1.40752170e-01 -4.61610416e-01]\n",
      " [-3.79957328e+00 -1.11623267e+00  1.02974249e-01 -7.19421281e-01\n",
      "  -6.54855436e-01 -1.01049569e+00]\n",
      " [-4.87320020e-01  9.83491491e-01 -7.81836332e-02  6.34533814e-01\n",
      "   1.89339501e+00 -1.87167777e-01]\n",
      " [-2.55462292e-01 -6.63705914e-02 -6.03910393e-02 -7.19421281e-01\n",
      "  -4.47305625e-01 -8.27533935e-01]\n",
      " [ 2.41375697e-01  1.08847770e+00  1.32564282e-01  1.98848891e+00\n",
      "   2.22778082e+00 -1.87167777e-01]\n",
      " [-8.84790411e-01 -5.91301632e-01  5.13587819e-01 -5.47524161e-02\n",
      "  -6.43324891e-01 -1.01049569e+00]\n",
      " [-7.19177748e-01 -1.01124647e+00  2.64963501e+00  6.83344108e-02\n",
      "  -1.93633635e-01 -9.19014815e-01]\n",
      " [ 1.69876713e+00  1.43601825e-01 -4.15704260e-01  1.43459819e+00\n",
      "  -5.28019441e-01  1.64244982e+00]\n",
      " [-1.56094694e-01  2.48588033e-01  3.61409850e-01  8.19164054e-01\n",
      "   2.32996530e-01 -5.53091296e-01]\n",
      " [ 9.51796914e-03  3.86156168e-02  1.79986866e-01  4.62212257e-01\n",
      "   4.86668521e-01 -9.56868972e-02]\n",
      " [ 7.57630343e-02  1.19346391e+00  7.39182632e-02 -7.19421281e-01\n",
      "   4.29015795e-01  4.53198381e-01]\n",
      " [-3.21707357e-01 -3.63590167e+00 -3.95456588e-01 -7.19421281e-01\n",
      "  -3.50290005e+00 -8.27533935e-01]\n",
      " [-1.05040307e+00  4.58560450e-01 -3.53673384e-01  1.54495190e-01\n",
      "  -1.24450365e-01  2.70236622e-01]\n",
      " [-1.28226080e+00 -3.81329216e-01 -3.40399824e-01 -7.19421281e-01\n",
      "   4.17485250e-01 -7.36053055e-01]\n",
      " [ 1.50003194e+00 -8.01274049e-01 -8.82899124e-01  1.43459819e+00\n",
      "   1.39161750e-02  5.44679261e-01]\n",
      " [-8.98496287e-02 -1.71356800e-01  1.00451434e+00 -7.19421281e-01\n",
      "  -6.20263801e-01 -8.27533935e-01]\n",
      " [ 1.03631648e+00  8.26012178e-01 -7.79163422e-01  5.11446987e-01\n",
      "  -1.70572545e-01 -5.53091296e-01]\n",
      " [-5.67270961e-02 -1.32620509e+00  1.30096024e+00 -7.19421281e-01\n",
      "  -9.20057971e-01 -1.01049569e+00]\n",
      " [ 3.73865828e-01  9.83491491e-01 -4.30772831e-01  2.17311915e+00\n",
      "   1.02860414e+00 -5.53091296e-01]\n",
      " [-6.52932683e-01  8.26012178e-01 -2.32822060e-01 -2.76308704e-01\n",
      "   8.09523781e-01 -8.27533935e-01]\n",
      " [ 3.73865828e-01  1.08847770e+00 -8.87509599e-01 -7.19421281e-01\n",
      "   1.50135648e+00  8.19121900e-01]\n",
      " [-6.52932683e-01  1.43601825e-01  1.83598288e+00 -7.19421281e-01\n",
      "   8.44115416e-01 -5.53091296e-01]\n",
      " [ 3.40743295e-01  3.86156168e-02 -4.65306830e-01  6.96077228e-01\n",
      "   8.30994451e-02  7.27641020e-01]\n",
      " [-4.21074955e-01  3.53574241e-01  5.17449744e+00 -7.19421281e-01\n",
      "   2.90649255e-01  1.18504542e+00]\n",
      " [-1.34850587e+00 -3.63590167e+00  1.13712699e+00 -7.19421281e-01\n",
      "  -3.50290005e+00 -1.01049569e+00]\n",
      " [ 3.40743295e-01  1.40343632e+00  4.38655296e-01 -7.19421281e-01\n",
      "  -9.08527426e-01 -1.10197657e+00]\n",
      " [ 1.03631648e+00 -6.96287841e-01 -7.88626423e-01 -7.19421281e-01\n",
      "  -7.83281851e-02 -3.70129536e-01]\n",
      " [ 3.73865828e-01 -6.96287841e-01 -6.04553184e-01  1.15149849e+00\n",
      "  -1.93633635e-01 -1.10197657e+00]\n",
      " [-1.22972161e-01  1.43601825e-01  1.92225373e-01  1.82847603e+00\n",
      "   7.74932146e-01  2.09985422e+00]\n",
      " [-5.20442553e-01  2.48588033e-01 -7.29731439e-01 -7.19421281e-01\n",
      "  -1.59042000e-01 -9.56868972e-02]\n",
      " [ 1.03631648e+00  6.68532866e-01 -7.06121962e-01 -7.19421281e-01\n",
      "   1.16697068e+00  1.00208366e+00]\n",
      " [ 8.04458752e-01  5.63546658e-01 -7.39205967e-01 -7.19421281e-01\n",
      "  -3.78122355e-01  2.19133510e+00]\n",
      " [ 1.86437979e+00  1.43601825e-01 -7.45353267e-01  9.42250881e-01\n",
      "   3.36771435e-01 -8.27533935e-01]\n",
      " [ 7.05091154e-01  3.86156168e-02  2.98688823e+00  6.34533814e-01\n",
      "   7.74932146e-01  9.10602780e-01]\n",
      " [-4.87320020e-01 -1.71356800e-01 -5.31734563e-01  3.88360161e-01\n",
      "   2.90649255e-01 -4.61610416e-01]\n",
      " [-4.87320020e-01 -6.63705914e-02  3.10864321e+00  1.54495190e-01\n",
      "   9.36359776e-01 -6.44572176e-01]\n",
      " [ 7.71336219e-01  3.53574241e-01 -8.81227826e-01 -7.19421281e-01\n",
      "   3.25240890e-01  1.78755742e-01]\n",
      " [-5.20442553e-01  7.73519074e-01 -7.01867261e-01 -7.19421281e-01\n",
      "   5.78912881e-01  1.55096894e+00]\n",
      " [-4.54197487e-01 -2.23849904e-01  2.15038658e+00 -7.19421281e-01\n",
      "  -6.66385981e-01 -1.01049569e+00]\n",
      " [ 3.40743295e-01  1.40343632e+00 -5.89265615e-01 -7.19421281e-01\n",
      "  -3.50290005e+00  1.91689246e+00]\n",
      " [-1.11664814e+00  1.43601825e-01  7.49246452e-04 -2.27073974e-01\n",
      "  -4.35775080e-01 -8.27533935e-01]\n",
      " [-8.51667879e-01  3.53574241e-01 -5.71692019e-01 -2.64000022e-01\n",
      "   9.46299901e-02 -9.19014815e-01]\n",
      " [-1.89217226e-01  1.19346391e+00 -6.51198505e-02 -7.19421281e-01\n",
      "   1.42064267e+00  1.91689246e+00]\n",
      " [-2.36045635e-02 -1.71356800e-01 -5.03695187e-01 -7.19421281e-01\n",
      "   2.79118710e-01  8.19121900e-01]\n",
      " [-1.44787347e+00  3.86156168e-02 -7.75797775e-01 -7.19421281e-01\n",
      "  -2.74347450e-01 -1.01049569e+00]\n",
      " [ 1.46690940e+00 -2.76343008e-01 -8.03837151e-01 -7.19421281e-01\n",
      "  -3.43530720e-01  6.36160141e-01]]\n"
     ]
    }
   ],
   "source": [
    "print(X_train)"
   ]
  },
  {
   "cell_type": "code",
   "execution_count": 12,
   "metadata": {
    "colab": {
     "base_uri": "https://localhost:8080/",
     "height": 1000
    },
    "colab_type": "code",
    "executionInfo": {
     "elapsed": 1579,
     "status": "ok",
     "timestamp": 1588267336180,
     "user": {
      "displayName": "Hadelin de Ponteves",
      "photoUrl": "https://lh3.googleusercontent.com/a-/AOh14GhEuXdT7eQweUmRPW8_laJuPggSK6hfvpl5a6WBaA=s64",
      "userId": "15047218817161520419"
     },
     "user_tz": -240
    },
    "id": "JUd6iBRp2C3L",
    "outputId": "6661e6f4-9c33-42af-d9c7-ca552603de1e"
   },
   "outputs": [
    {
     "name": "stdout",
     "output_type": "stream",
     "text": [
      "[[-1.56094694e-01  1.19346391e+00 -6.02428523e-01 -7.19421281e-01\n",
      "   8.32584871e-01 -2.78648657e-01]\n",
      " [-1.18289320e+00  3.01081137e-01 -6.97711686e-01 -7.19421281e-01\n",
      "   1.86874350e-01 -1.01049569e+00]\n",
      " [-1.89217226e-01  9.83491491e-01 -3.39281784e-01 -7.19421281e-01\n",
      "   2.44527075e-01  4.53198381e-01]\n",
      " [-4.54197487e-01 -1.01124647e+00 -2.29441044e-01 -2.76308704e-01\n",
      "  -7.12508161e-01 -6.44572176e-01]\n",
      " [ 9.51796914e-03 -3.63590167e+00 -7.41956884e-01 -7.19421281e-01\n",
      "   5.67382336e-01 -3.70129536e-01]\n",
      " [ 5.39478491e-01 -3.63590167e+00  7.38459158e-01 -7.19421281e-01\n",
      "   1.47829539e+00 -6.44572176e-01]\n",
      " [-1.11664814e+00  4.58560450e-01  7.28916242e-01 -1.28604512e-01\n",
      "   1.88186447e+00  8.19121900e-01]\n",
      " [-1.14977067e+00 -7.48780945e-01  2.14780588e-01 -7.19421281e-01\n",
      "  -1.30056596e+00 -1.10197657e+00]\n",
      " [ 9.70071415e-01 -5.91301632e-01 -4.51051240e-01  1.00379429e+00\n",
      "  -1.01389275e-01  3.61717501e-01]\n",
      " [-2.34218185e+00 -3.81329216e-01  6.28763648e-01 -7.19421281e-01\n",
      "  -6.20263801e-01  2.70236622e-01]\n",
      " [-1.89217226e-01  3.01081137e-01  5.80945331e-01 -7.19421281e-01\n",
      "   6.48096151e-01  2.46577773e+00]\n",
      " [ 2.26185019e+00 -2.76343008e-01 -4.21302146e-01 -7.19421281e-01\n",
      "  -8.16283066e-01 -9.56868972e-02]\n",
      " [ 9.03826349e-01  6.68532866e-01 -2.50491707e-01  6.83344108e-02\n",
      "  -6.54855436e-01 -1.10197657e+00]\n",
      " [ 2.69244311e+00  1.08847770e+00  7.56378540e-01 -7.19421281e-01\n",
      "   1.08625686e+00  7.27641020e-01]\n",
      " [ 1.86437979e+00  2.13833978e+00 -2.28368340e-01  2.23466256e+00\n",
      "   1.73196738e+00  1.91689246e+00]\n",
      " [ 7.38213686e-01  2.03335357e+00  2.99003104e+00 -7.19421281e-01\n",
      "   2.12400591e+00  3.61717501e-01]\n",
      " [ 9.36948882e-01  1.29845012e+00 -3.50927845e-01  1.07764639e+00\n",
      "   7.17279421e-01  1.64244982e+00]\n",
      " [ 4.73233426e-01  8.78505282e-01 -7.63795170e-01  2.60392304e+00\n",
      "   5.44321246e-01 -9.19014815e-01]\n",
      " [-1.01728054e+00 -3.63590167e+00  7.50086406e-02 -7.19421281e-01\n",
      "  -3.50290005e+00 -1.10197657e+00]\n",
      " [ 2.39434032e+00 -6.63705914e-02  2.01035224e-01  3.02241825e+00\n",
      "   8.44115416e-01  7.27641020e-01]\n",
      " [ 1.08885567e-01  7.73519074e-01 -8.79057061e-01  2.11157574e+00\n",
      "   1.77808956e+00 -1.87167777e-01]\n",
      " [ 2.46058538e+00 -4.86315424e-01 -6.07807411e-01  9.69372427e+00\n",
      "  -3.22060050e-02  2.37429686e+00]\n",
      " [ 1.06943901e+00  3.53574241e-01 -2.28681852e-01 -7.19421281e-01\n",
      "   1.04013468e+00  9.10602780e-01]\n",
      " [-2.88584824e-01  1.43601825e-01  1.03767251e-01 -7.19421281e-01\n",
      "   7.17279421e-01  1.09356454e+00]\n",
      " [ 8.04458752e-01 -2.76343008e-01 -7.26142952e-01  1.00379429e+00\n",
      "  -2.05164180e-01 -6.44572176e-01]\n",
      " [-1.44787347e+00 -1.11623267e+00  8.64747770e-01  2.16038603e-01\n",
      "  -1.15066887e+00 -1.01049569e+00]\n",
      " [ 1.33441927e+00 -3.81329216e-01 -2.91989830e-01  5.37337665e+00\n",
      "   4.17485250e-01  1.18504542e+00]\n",
      " [ 1.59939953e+00  1.43601825e-01  2.76308154e-01 -7.19421281e-01\n",
      "   9.94012501e-01 -4.20601746e-03]\n",
      " [ 2.72556564e+00  3.86156168e-02 -6.51264986e-01  5.96419342e+00\n",
      "   1.39161750e-02  1.82541158e+00]]\n"
     ]
    }
   ],
   "source": [
    "print(X_test)"
   ]
  },
  {
   "cell_type": "markdown",
   "metadata": {},
   "source": [
    "# Model Building"
   ]
  },
  {
   "cell_type": "markdown",
   "metadata": {},
   "source": [
    "# Building Support Vector Machine Model"
   ]
  },
  {
   "cell_type": "code",
   "execution_count": 13,
   "metadata": {
    "colab": {
     "base_uri": "https://localhost:8080/",
     "height": 86
    },
    "colab_type": "code",
    "executionInfo": {
     "elapsed": 1578,
     "status": "ok",
     "timestamp": 1588267336181,
     "user": {
      "displayName": "Hadelin de Ponteves",
      "photoUrl": "https://lh3.googleusercontent.com/a-/AOh14GhEuXdT7eQweUmRPW8_laJuPggSK6hfvpl5a6WBaA=s64",
      "userId": "15047218817161520419"
     },
     "user_tz": -240
    },
    "id": "e0pFVAmciHQs",
    "outputId": "2456d6a2-0437-42b3-fbe1-e75a23b26148"
   },
   "outputs": [
    {
     "data": {
      "text/plain": [
       "SVC(kernel='linear', random_state=0)"
      ]
     },
     "execution_count": 13,
     "metadata": {},
     "output_type": "execute_result"
    }
   ],
   "source": [
    "from sklearn.svm import SVC\n",
    "classifier = SVC(kernel = 'linear', random_state = 0)\n",
    "classifier.fit(X_train, y_train)"
   ]
  },
  {
   "cell_type": "markdown",
   "metadata": {},
   "source": [
    "# Changing the input data to numpy array and reshaping the array as we are predicting for 1 instance"
   ]
  },
  {
   "cell_type": "code",
   "execution_count": 14,
   "metadata": {},
   "outputs": [],
   "source": [
    "input_data = (122,68,8.087,88,27.678,38)\n",
    "input_data_as_numpy_array = np.asarray(input_data)\n",
    "input_data_reshaped = input_data_as_numpy_array.reshape(1,-1)"
   ]
  },
  {
   "cell_type": "code",
   "execution_count": 15,
   "metadata": {
    "colab": {
     "base_uri": "https://localhost:8080/",
     "height": 34
    },
    "colab_type": "code",
    "executionInfo": {
     "elapsed": 1573,
     "status": "ok",
     "timestamp": 1588267336181,
     "user": {
      "displayName": "Hadelin de Ponteves",
      "photoUrl": "https://lh3.googleusercontent.com/a-/AOh14GhEuXdT7eQweUmRPW8_laJuPggSK6hfvpl5a6WBaA=s64",
      "userId": "15047218817161520419"
     },
     "user_tz": -240
    },
    "id": "f8YOXsQy58rP",
    "outputId": "46dd75b3-1359-4f2a-8978-5ea65c8a52e9"
   },
   "outputs": [
    {
     "name": "stdout",
     "output_type": "stream",
     "text": [
      "[[ 0.2413757  -0.06637059 -0.51275477  0.3637428  -0.31147581  0.45319838]]\n"
     ]
    }
   ],
   "source": [
    "\n",
    "data = sc.transform(input_data_reshaped)\n",
    "print(data)\n",
    "\n",
    "\n"
   ]
  },
  {
   "cell_type": "markdown",
   "metadata": {
    "colab_type": "text",
    "id": "vKYVQH-l5NpE"
   },
   "source": [
    "## Predicting the Test set results"
   ]
  },
  {
   "cell_type": "code",
   "execution_count": 16,
   "metadata": {
    "colab": {
     "base_uri": "https://localhost:8080/",
     "height": 1000
    },
    "colab_type": "code",
    "executionInfo": {
     "elapsed": 1569,
     "status": "ok",
     "timestamp": 1588267336182,
     "user": {
      "displayName": "Hadelin de Ponteves",
      "photoUrl": "https://lh3.googleusercontent.com/a-/AOh14GhEuXdT7eQweUmRPW8_laJuPggSK6hfvpl5a6WBaA=s64",
      "userId": "15047218817161520419"
     },
     "user_tz": -240
    },
    "id": "p6VMTb2O4hwM",
    "outputId": "3621a714-16d0-4c4a-dfc1-ae223f3cfc1d"
   },
   "outputs": [
    {
     "name": "stdout",
     "output_type": "stream",
     "text": [
      "[[0 0]\n",
      " [0 0]\n",
      " [0 1]\n",
      " [0 0]\n",
      " [1 0]\n",
      " [1 1]\n",
      " [0 0]\n",
      " [0 0]\n",
      " [1 0]\n",
      " [0 0]\n",
      " [1 0]\n",
      " [1 1]\n",
      " [0 0]\n",
      " [1 1]\n",
      " [1 1]\n",
      " [1 1]\n",
      " [1 1]\n",
      " [0 0]\n",
      " [0 0]\n",
      " [1 1]\n",
      " [0 1]\n",
      " [1 1]\n",
      " [1 1]\n",
      " [1 0]\n",
      " [0 0]\n",
      " [0 0]\n",
      " [1 1]\n",
      " [1 1]\n",
      " [1 1]]\n"
     ]
    }
   ],
   "source": [
    "y_pred = classifier.predict(X_test)\n",
    "print(np.concatenate((y_pred.reshape(len(y_pred),1), y_test.reshape(len(y_test),1)),1))"
   ]
  },
  {
   "cell_type": "markdown",
   "metadata": {},
   "source": [
    "# Making the Confusion Matrix and Calculating Precision and Recall"
   ]
  },
  {
   "cell_type": "code",
   "execution_count": 17,
   "metadata": {
    "colab": {
     "base_uri": "https://localhost:8080/",
     "height": 68
    },
    "colab_type": "code",
    "executionInfo": {
     "elapsed": 1563,
     "status": "ok",
     "timestamp": 1588267336182,
     "user": {
      "displayName": "Hadelin de Ponteves",
      "photoUrl": "https://lh3.googleusercontent.com/a-/AOh14GhEuXdT7eQweUmRPW8_laJuPggSK6hfvpl5a6WBaA=s64",
      "userId": "15047218817161520419"
     },
     "user_tz": -240
    },
    "id": "D6bpZwUiiXic",
    "outputId": "f72110a8-b97b-43e8-9adf-14673886ccab"
   },
   "outputs": [
    {
     "name": "stdout",
     "output_type": "stream",
     "text": [
      "[[11  4]\n",
      " [ 2 12]]\n",
      "0.75\n",
      "0.8571428571428571\n"
     ]
    }
   ],
   "source": [
    "from sklearn.metrics import confusion_matrix, precision_score, recall_score\n",
    "cm = confusion_matrix(y_test, y_pred)\n",
    "print(cm)\n",
    "Precision = precision_score(y_test, y_pred)\n",
    "Recall = recall_score(y_test, y_pred)\n",
    "print(Precision)\n",
    "print(Recall)"
   ]
  },
  {
   "cell_type": "markdown",
   "metadata": {},
   "source": [
    "# Calculating Accuracy and F1 Score"
   ]
  },
  {
   "cell_type": "code",
   "execution_count": 18,
   "metadata": {},
   "outputs": [
    {
     "name": "stdout",
     "output_type": "stream",
     "text": [
      "0.7931034482758621\n",
      "0.7999999999999999\n"
     ]
    }
   ],
   "source": [
    "from sklearn.metrics import accuracy_score, f1_score\n",
    "Accuracy = accuracy_score(y_test, y_pred)\n",
    "F1_Score = f1_score(y_test, y_pred)\n",
    "print(Accuracy)\n",
    "print(F1_Score)"
   ]
  },
  {
   "cell_type": "markdown",
   "metadata": {},
   "source": [
    "# Building a Logistic Regression Model"
   ]
  },
  {
   "cell_type": "code",
   "execution_count": 19,
   "metadata": {},
   "outputs": [
    {
     "data": {
      "text/plain": [
       "LogisticRegression(random_state=0)"
      ]
     },
     "execution_count": 19,
     "metadata": {},
     "output_type": "execute_result"
    }
   ],
   "source": [
    "from sklearn.linear_model import LogisticRegression\n",
    "classifier = LogisticRegression(random_state = 0)\n",
    "classifier.fit(X_train, y_train)"
   ]
  },
  {
   "cell_type": "markdown",
   "metadata": {},
   "source": [
    "# Predicting the Test set results"
   ]
  },
  {
   "cell_type": "code",
   "execution_count": 20,
   "metadata": {},
   "outputs": [
    {
     "name": "stdout",
     "output_type": "stream",
     "text": [
      "[[0 0]\n",
      " [0 0]\n",
      " [0 1]\n",
      " [0 0]\n",
      " [1 0]\n",
      " [1 1]\n",
      " [0 0]\n",
      " [0 0]\n",
      " [1 0]\n",
      " [0 0]\n",
      " [1 0]\n",
      " [0 1]\n",
      " [0 0]\n",
      " [1 1]\n",
      " [1 1]\n",
      " [1 1]\n",
      " [1 1]\n",
      " [0 0]\n",
      " [0 0]\n",
      " [1 1]\n",
      " [0 1]\n",
      " [1 1]\n",
      " [1 1]\n",
      " [1 0]\n",
      " [0 0]\n",
      " [0 0]\n",
      " [1 1]\n",
      " [1 1]\n",
      " [1 1]]\n"
     ]
    }
   ],
   "source": [
    "y_pred = classifier.predict(X_test)\n",
    "print(np.concatenate((y_pred.reshape(len(y_pred),1), y_test.reshape(len(y_test),1)),1))"
   ]
  },
  {
   "cell_type": "markdown",
   "metadata": {},
   "source": [
    "# Making the Confusion Matrix and Calculating Precision and Recall"
   ]
  },
  {
   "cell_type": "code",
   "execution_count": 21,
   "metadata": {},
   "outputs": [
    {
     "name": "stdout",
     "output_type": "stream",
     "text": [
      "[[11  4]\n",
      " [ 3 11]]\n",
      "0.7333333333333333\n",
      "0.7857142857142857\n"
     ]
    }
   ],
   "source": [
    "cm = confusion_matrix(y_test, y_pred)\n",
    "print(cm)\n",
    "Precision = precision_score(y_test, y_pred)\n",
    "Recall = recall_score(y_test, y_pred)\n",
    "print(Precision)\n",
    "print(Recall)"
   ]
  },
  {
   "cell_type": "markdown",
   "metadata": {},
   "source": [
    "# Calculating Accuracy and F1 Score"
   ]
  },
  {
   "cell_type": "code",
   "execution_count": 22,
   "metadata": {},
   "outputs": [
    {
     "name": "stdout",
     "output_type": "stream",
     "text": [
      "0.7586206896551724\n",
      "0.7586206896551724\n"
     ]
    }
   ],
   "source": [
    "Accuracy = accuracy_score(y_test, y_pred)\n",
    "F1_Score = f1_score(y_test, y_pred)\n",
    "print(Accuracy)\n",
    "print(F1_Score)"
   ]
  },
  {
   "cell_type": "markdown",
   "metadata": {},
   "source": [
    "# Building a Decision Tree Model"
   ]
  },
  {
   "cell_type": "code",
   "execution_count": 23,
   "metadata": {},
   "outputs": [
    {
     "data": {
      "text/plain": [
       "DecisionTreeClassifier(criterion='entropy', random_state=0)"
      ]
     },
     "execution_count": 23,
     "metadata": {},
     "output_type": "execute_result"
    }
   ],
   "source": [
    "from sklearn.tree import DecisionTreeClassifier\n",
    "classifier = DecisionTreeClassifier(criterion = 'entropy', random_state = 0)\n",
    "classifier.fit(X_train, y_train)"
   ]
  },
  {
   "cell_type": "markdown",
   "metadata": {},
   "source": [
    "# Predicting the Test set results"
   ]
  },
  {
   "cell_type": "code",
   "execution_count": 24,
   "metadata": {},
   "outputs": [
    {
     "name": "stdout",
     "output_type": "stream",
     "text": [
      "[[0 0]\n",
      " [0 0]\n",
      " [1 1]\n",
      " [0 0]\n",
      " [1 0]\n",
      " [1 1]\n",
      " [0 0]\n",
      " [0 0]\n",
      " [1 0]\n",
      " [0 0]\n",
      " [0 0]\n",
      " [0 1]\n",
      " [0 0]\n",
      " [0 1]\n",
      " [1 1]\n",
      " [1 1]\n",
      " [0 1]\n",
      " [1 0]\n",
      " [0 0]\n",
      " [0 1]\n",
      " [1 1]\n",
      " [1 1]\n",
      " [0 1]\n",
      " [0 0]\n",
      " [0 0]\n",
      " [0 0]\n",
      " [0 1]\n",
      " [0 1]\n",
      " [1 1]]\n"
     ]
    }
   ],
   "source": [
    "y_pred = classifier.predict(X_test)\n",
    "print(np.concatenate((y_pred.reshape(len(y_pred),1), y_test.reshape(len(y_test),1)),1))"
   ]
  },
  {
   "cell_type": "markdown",
   "metadata": {},
   "source": [
    "# Making the Confusion Matrix and Calculating Precision and Recall"
   ]
  },
  {
   "cell_type": "code",
   "execution_count": 25,
   "metadata": {},
   "outputs": [
    {
     "name": "stdout",
     "output_type": "stream",
     "text": [
      "[[12  3]\n",
      " [ 7  7]]\n",
      "0.7\n",
      "0.5\n"
     ]
    }
   ],
   "source": [
    "cm = confusion_matrix(y_test, y_pred)\n",
    "print(cm)\n",
    "Precision = precision_score(y_test, y_pred)\n",
    "Recall = recall_score(y_test, y_pred)\n",
    "print(Precision)\n",
    "print(Recall)"
   ]
  },
  {
   "cell_type": "markdown",
   "metadata": {},
   "source": [
    "# Calculating Accuracy and F1 Score"
   ]
  },
  {
   "cell_type": "code",
   "execution_count": 26,
   "metadata": {},
   "outputs": [
    {
     "name": "stdout",
     "output_type": "stream",
     "text": [
      "0.6551724137931034\n",
      "0.5833333333333334\n"
     ]
    }
   ],
   "source": [
    "Accuracy = accuracy_score(y_test, y_pred)\n",
    "F1_Score = f1_score(y_test, y_pred)\n",
    "print(Accuracy)\n",
    "print(F1_Score)"
   ]
  },
  {
   "cell_type": "markdown",
   "metadata": {},
   "source": [
    "# Building a Random Forest Model"
   ]
  },
  {
   "cell_type": "code",
   "execution_count": 27,
   "metadata": {},
   "outputs": [
    {
     "data": {
      "text/plain": [
       "RandomForestClassifier(criterion='entropy', n_estimators=10, random_state=0)"
      ]
     },
     "execution_count": 27,
     "metadata": {},
     "output_type": "execute_result"
    }
   ],
   "source": [
    "from sklearn.ensemble import RandomForestClassifier\n",
    "classifier = RandomForestClassifier(n_estimators = 10, criterion = 'entropy', random_state = 0)\n",
    "classifier.fit(X_train, y_train)"
   ]
  },
  {
   "cell_type": "markdown",
   "metadata": {},
   "source": [
    "# Predicting the Test set results"
   ]
  },
  {
   "cell_type": "code",
   "execution_count": 28,
   "metadata": {},
   "outputs": [
    {
     "name": "stdout",
     "output_type": "stream",
     "text": [
      "[[0 0]\n",
      " [0 0]\n",
      " [0 1]\n",
      " [0 0]\n",
      " [0 0]\n",
      " [0 1]\n",
      " [0 0]\n",
      " [0 0]\n",
      " [0 0]\n",
      " [0 0]\n",
      " [1 0]\n",
      " [0 1]\n",
      " [0 0]\n",
      " [0 1]\n",
      " [1 1]\n",
      " [1 1]\n",
      " [0 1]\n",
      " [0 0]\n",
      " [0 0]\n",
      " [1 1]\n",
      " [0 1]\n",
      " [1 1]\n",
      " [0 1]\n",
      " [1 0]\n",
      " [0 0]\n",
      " [0 0]\n",
      " [0 1]\n",
      " [1 1]\n",
      " [1 1]]\n"
     ]
    }
   ],
   "source": [
    "y_pred = classifier.predict(X_test)\n",
    "print(np.concatenate((y_pred.reshape(len(y_pred),1), y_test.reshape(len(y_test),1)),1))"
   ]
  },
  {
   "cell_type": "markdown",
   "metadata": {},
   "source": [
    "# Making the Confusion Matrix and Calculating Precision and Recall"
   ]
  },
  {
   "cell_type": "code",
   "execution_count": 29,
   "metadata": {},
   "outputs": [
    {
     "name": "stdout",
     "output_type": "stream",
     "text": [
      "[[13  2]\n",
      " [ 8  6]]\n",
      "0.75\n",
      "0.42857142857142855\n"
     ]
    }
   ],
   "source": [
    "cm = confusion_matrix(y_test, y_pred)\n",
    "print(cm)\n",
    "Precision = precision_score(y_test, y_pred)\n",
    "Recall = recall_score(y_test, y_pred)\n",
    "print(Precision)\n",
    "print(Recall)"
   ]
  },
  {
   "cell_type": "markdown",
   "metadata": {},
   "source": [
    "# Calculating Accuracy and F1 Score"
   ]
  },
  {
   "cell_type": "code",
   "execution_count": 30,
   "metadata": {},
   "outputs": [
    {
     "name": "stdout",
     "output_type": "stream",
     "text": [
      "0.6551724137931034\n",
      "0.5454545454545454\n"
     ]
    }
   ],
   "source": [
    "Accuracy = accuracy_score(y_test, y_pred)\n",
    "F1_Score = f1_score(y_test, y_pred)\n",
    "print(Accuracy)\n",
    "print(F1_Score)"
   ]
  },
  {
   "cell_type": "markdown",
   "metadata": {},
   "source": [
    "# The Conclusion from Model Building\n",
    "\n",
    "# Therefore Support Vector Machine is the best model for this prediction since it has an accuracy_score of 0.79"
   ]
  },
  {
   "cell_type": "markdown",
   "metadata": {},
   "source": [
    "# Predicting a new result"
   ]
  },
  {
   "cell_type": "code",
   "execution_count": 37,
   "metadata": {},
   "outputs": [
    {
     "name": "stdout",
     "output_type": "stream",
     "text": [
      "[0]\n"
     ]
    }
   ],
   "source": [
    "prediction = classifier.predict(data)\n",
    "print(prediction)"
   ]
  },
  {
   "cell_type": "code",
   "execution_count": 38,
   "metadata": {},
   "outputs": [
    {
     "name": "stdout",
     "output_type": "stream",
     "text": [
      "The person does not have Lungs cancer\n"
     ]
    }
   ],
   "source": [
    "if (prediction[0] == 0):\n",
    "    print('The person does not have Lungs cancer')\n",
    "else:\n",
    "    print('The person has Lungs cancer')"
   ]
  },
  {
   "cell_type": "markdown",
   "metadata": {},
   "source": [
    "# Feature Importance"
   ]
  },
  {
   "cell_type": "markdown",
   "metadata": {},
   "source": [
    "# Plotting Feature importance"
   ]
  },
  {
   "cell_type": "code",
   "execution_count": 39,
   "metadata": {},
   "outputs": [
    {
     "data": {
      "text/plain": [
       "<AxesSubplot:ylabel='None'>"
      ]
     },
     "execution_count": 39,
     "metadata": {},
     "output_type": "execute_result"
    },
    {
     "data": {
      "image/png": "[encoded data removed]",
      "text/plain": [
       "<Figure size 432x288 with 1 Axes>"
      ]
     },
     "metadata": {},
     "output_type": "display_data"
    }
   ],
   "source": [
    "(pd.Series(classifier.feature_importances_, index=X.columns).plot(kind='pie', radius=2))"
   ]
  },
  {
   "cell_type": "markdown",
   "metadata": {},
   "source": [
    "# Here from the above graph, it is clearly visible that BMI as a feature is the most important in this dataset"
   ]
  },
  {
   "cell_type": "markdown",
   "metadata": {},
   "source": [
    "# Conclusion"
   ]
  },
  {
   "cell_type": "markdown",
   "metadata": {},
   "source": [
    "# After using all these patient records, we are able to build a machine learning model (Support Vector Machine – best one) to accurately predict whether or not the patients in the dataset have diabetes or not along with that we were able to draw some insights from the data via data analysis and visualization."
   ]
  },
  {
   "cell_type": "code",
   "execution_count": null,
   "metadata": {},
   "outputs": [],
   "source": []
  }
 ],
 "metadata": {
  "colab": {
   "authorship_tag": "ABX9TyMH6PiqxoH4J/SZjlaPzxhf",
   "collapsed_sections": [],
   "machine_shape": "hm",
   "name": "support_vector_machine.ipynb",
   "provenance": [],
   "toc_visible": true
  },
  "kernelspec": {
   "display_name": "Python 3 (ipykernel)",
   "language": "python",
   "name": "python3"
  },
  "language_info": {
   "codemirror_mode": {
    "name": "ipython",
    "version": 3
   },
   "file_extension": ".py",
   "mimetype": "text/x-python",
   "name": "python",
   "nbconvert_exporter": "python",
   "pygments_lexer": "ipython3",
   "version": "3.9.5"
  }
 },
 "nbformat": 4,
 "nbformat_minor": 1
}
